{
 "cells": [
  {
   "cell_type": "markdown",
   "metadata": {},
   "source": [
    "# WeatherPy\n",
    "----\n",
    "\n",
    "#### Note\n",
    "* Instructions have been included for each segment. You do not have to follow them exactly, but they are included to help you think through the steps."
   ]
  },
  {
   "cell_type": "code",
   "execution_count": 11,
   "metadata": {
    "scrolled": true
   },
   "outputs": [],
   "source": [
    "# Dependencies and Setup\n",
    "import matplotlib.pyplot as plt\n",
    "import pandas as pd\n",
    "import numpy as np\n",
    "import requests\n",
    "import time\n",
    "import datetime\n",
    "from scipy.stats import linregress\n",
    "from pprint import pprint\n",
    "\n",
    "# Import API key\n",
    "from api_keys import weather_api_key\n",
    "\n",
    "# Incorporated citipy to determine city based on latitude and longitude\n",
    "from citipy import citipy\n",
    "\n",
    "# Output File (CSV)\n",
    "output_data_file = \"../output_data/cities.csv\"\n",
    "\n",
    "# Range of latitudes and longitudes\n",
    "lat_range = (-90, 90)\n",
    "lng_range = (-180, 180)"
   ]
  },
  {
   "cell_type": "markdown",
   "metadata": {},
   "source": [
    "## Generate Cities List"
   ]
  },
  {
   "cell_type": "code",
   "execution_count": 12,
   "metadata": {},
   "outputs": [
    {
     "data": {
      "text/plain": [
       "613"
      ]
     },
     "execution_count": 12,
     "metadata": {},
     "output_type": "execute_result"
    }
   ],
   "source": [
    "# List for holding lat_lngs and cities\n",
    "lat_lngs = []\n",
    "cities = []\n",
    "\n",
    "# Create a set of random lat and lng combinations\n",
    "lats = np.random.uniform(lat_range[0], lat_range[1], size=1500)\n",
    "lngs = np.random.uniform(lng_range[0], lng_range[1], size=1500)\n",
    "lat_lngs = zip(lats, lngs)\n",
    "\n",
    "# Identify nearest city for each lat, lng combination\n",
    "for lat_lng in lat_lngs:\n",
    "    city = citipy.nearest_city(lat_lng[0], lat_lng[1]).city_name\n",
    "    \n",
    "    # If the city is unique, then add it to a our cities list\n",
    "    if city not in cities:\n",
    "        cities.append(city)\n",
    "\n",
    "# Print the city count to confirm sufficient count\n",
    "len(cities)\n",
    "# cities\n"
   ]
  },
  {
   "cell_type": "markdown",
   "metadata": {},
   "source": [
    "### Perform API Calls\n",
    "* Perform a weather check on each city using a series of successive API calls.\n",
    "* Include a print log of each city as it'sbeing processed (with the city number and city name).\n"
   ]
  },
  {
   "cell_type": "code",
   "execution_count": 13,
   "metadata": {
    "scrolled": true
   },
   "outputs": [
    {
     "name": "stdout",
     "output_type": "stream",
     "text": [
      "'http://api.openweathermap.org/data/2.5/weather?appid=f147d9bec273413ad44628be5c95357bS&units=Imperial&q='\n",
      "Making request number: 0 for ID: kavieng\n",
      "{'cod': 401,\n",
      " 'message': 'Invalid API key. Please see '\n",
      "            'http://openweathermap.org/faq#error401 for more info.'}\n"
     ]
    }
   ],
   "source": [
    "url = \"http://api.openweathermap.org/data/2.5/weather?\"\n",
    "units = \"Imperial\"\n",
    "\n",
    "# Build query URL\n",
    "query_url = f\"{url}appid={weather_api_key}&units={units}&q=\"\n",
    "pprint(query_url)\n",
    "\n",
    "limit = 0\n",
    "lat = []\n",
    "lng = []\n",
    "temp = []\n",
    "date = []\n",
    "humd = []\n",
    "wind = []\n",
    "cloud = []\n",
    "city = []\n",
    "\n",
    "# Make a request for each of the indices\n",
    "for x in range(len(cities)):\n",
    "    print(f\"Making request number: {x} for ID: {cities[x]}\")\n",
    "    response = requests.get(query_url + cities[x]).json()\n",
    "\n",
    "    pprint(response)\n",
    "\n",
    "#     try:\n",
    "#         city.append(response['name'])\n",
    "#         lat.append(response['coord']['lat'])\n",
    "#         lng.append(response['coord']['lng'])\n",
    "#         date.append(response['dt'])\n",
    "#         temp.append(response['main']['temp_max'])\n",
    "#         humd.append(response['main']['humidity'])\n",
    "#         wind.append(response['wind']['speed'])\n",
    "#         cloud.append(response['clouds']['all'])\n",
    "#     except:\n",
    "#         print(\"value error pass\")\n",
    "       \n",
    "    limit += 1\n",
    "    if limit == 1: break\n",
    "    time.sleep(1)  \n",
    "    \n",
    "    \n",
    "    \n",
    "    \n",
    "    \n",
    "    \n",
    "    \n"
   ]
  },
  {
   "cell_type": "code",
   "execution_count": null,
   "metadata": {
    "scrolled": true
   },
   "outputs": [],
   "source": []
  },
  {
   "cell_type": "markdown",
   "metadata": {},
   "source": [
    "### Convert Raw Data to DataFrame\n",
    "* Export the city data into a .csv.\n",
    "* Display the DataFrame"
   ]
  },
  {
   "cell_type": "code",
   "execution_count": 6,
   "metadata": {
    "scrolled": true
   },
   "outputs": [
    {
     "data": {
      "text/html": [
       "<div>\n",
       "<style scoped>\n",
       "    .dataframe tbody tr th:only-of-type {\n",
       "        vertical-align: middle;\n",
       "    }\n",
       "\n",
       "    .dataframe tbody tr th {\n",
       "        vertical-align: top;\n",
       "    }\n",
       "\n",
       "    .dataframe thead th {\n",
       "        text-align: right;\n",
       "    }\n",
       "</style>\n",
       "<table border=\"1\" class=\"dataframe\">\n",
       "  <thead>\n",
       "    <tr style=\"text-align: right;\">\n",
       "      <th></th>\n",
       "      <th>city</th>\n",
       "      <th>date</th>\n",
       "      <th>lat</th>\n",
       "      <th>temp</th>\n",
       "      <th>humd</th>\n",
       "      <th>wind</th>\n",
       "      <th>cloud</th>\n",
       "    </tr>\n",
       "  </thead>\n",
       "  <tbody>\n",
       "    <tr>\n",
       "      <th>0</th>\n",
       "      <td>Qaanaaq</td>\n",
       "      <td>1613026590</td>\n",
       "      <td>77.4840</td>\n",
       "      <td>5.88</td>\n",
       "      <td>76</td>\n",
       "      <td>13.76</td>\n",
       "      <td>6</td>\n",
       "    </tr>\n",
       "    <tr>\n",
       "      <th>1</th>\n",
       "      <td>Mataura</td>\n",
       "      <td>1613026591</td>\n",
       "      <td>-46.1927</td>\n",
       "      <td>51.82</td>\n",
       "      <td>68</td>\n",
       "      <td>10.31</td>\n",
       "      <td>74</td>\n",
       "    </tr>\n",
       "    <tr>\n",
       "      <th>2</th>\n",
       "      <td>Kavaratti</td>\n",
       "      <td>1613026592</td>\n",
       "      <td>10.5669</td>\n",
       "      <td>82.40</td>\n",
       "      <td>53</td>\n",
       "      <td>6.78</td>\n",
       "      <td>35</td>\n",
       "    </tr>\n",
       "    <tr>\n",
       "      <th>3</th>\n",
       "      <td>Hobart</td>\n",
       "      <td>1613026593</td>\n",
       "      <td>-42.8794</td>\n",
       "      <td>75.00</td>\n",
       "      <td>40</td>\n",
       "      <td>12.66</td>\n",
       "      <td>0</td>\n",
       "    </tr>\n",
       "    <tr>\n",
       "      <th>4</th>\n",
       "      <td>Hithadhoo</td>\n",
       "      <td>1613026595</td>\n",
       "      <td>-0.6000</td>\n",
       "      <td>82.02</td>\n",
       "      <td>80</td>\n",
       "      <td>11.52</td>\n",
       "      <td>48</td>\n",
       "    </tr>\n",
       "    <tr>\n",
       "      <th>5</th>\n",
       "      <td>Naberera</td>\n",
       "      <td>1613026596</td>\n",
       "      <td>-4.2000</td>\n",
       "      <td>64.22</td>\n",
       "      <td>92</td>\n",
       "      <td>2.15</td>\n",
       "      <td>99</td>\n",
       "    </tr>\n",
       "    <tr>\n",
       "      <th>6</th>\n",
       "      <td>Ushuaia</td>\n",
       "      <td>1613026376</td>\n",
       "      <td>-54.8000</td>\n",
       "      <td>60.80</td>\n",
       "      <td>67</td>\n",
       "      <td>14.97</td>\n",
       "      <td>0</td>\n",
       "    </tr>\n",
       "    <tr>\n",
       "      <th>7</th>\n",
       "      <td>Longyearbyen</td>\n",
       "      <td>1613026599</td>\n",
       "      <td>78.2186</td>\n",
       "      <td>5.00</td>\n",
       "      <td>61</td>\n",
       "      <td>23.02</td>\n",
       "      <td>40</td>\n",
       "    </tr>\n",
       "    <tr>\n",
       "      <th>8</th>\n",
       "      <td>Albany</td>\n",
       "      <td>1613026600</td>\n",
       "      <td>42.6001</td>\n",
       "      <td>21.99</td>\n",
       "      <td>55</td>\n",
       "      <td>1.90</td>\n",
       "      <td>100</td>\n",
       "    </tr>\n",
       "    <tr>\n",
       "      <th>9</th>\n",
       "      <td>Puerto Ayora</td>\n",
       "      <td>1613026602</td>\n",
       "      <td>-0.7393</td>\n",
       "      <td>73.99</td>\n",
       "      <td>99</td>\n",
       "      <td>1.01</td>\n",
       "      <td>56</td>\n",
       "    </tr>\n",
       "    <tr>\n",
       "      <th>10</th>\n",
       "      <td>Los Llanos de Aridane</td>\n",
       "      <td>1613026406</td>\n",
       "      <td>28.6585</td>\n",
       "      <td>60.80</td>\n",
       "      <td>72</td>\n",
       "      <td>8.05</td>\n",
       "      <td>0</td>\n",
       "    </tr>\n",
       "    <tr>\n",
       "      <th>11</th>\n",
       "      <td>Province of Trapani</td>\n",
       "      <td>1613026604</td>\n",
       "      <td>37.8333</td>\n",
       "      <td>57.99</td>\n",
       "      <td>71</td>\n",
       "      <td>18.41</td>\n",
       "      <td>40</td>\n",
       "    </tr>\n",
       "    <tr>\n",
       "      <th>12</th>\n",
       "      <td>Lagoa</td>\n",
       "      <td>1613026605</td>\n",
       "      <td>39.0500</td>\n",
       "      <td>58.33</td>\n",
       "      <td>68</td>\n",
       "      <td>31.38</td>\n",
       "      <td>4</td>\n",
       "    </tr>\n",
       "    <tr>\n",
       "      <th>13</th>\n",
       "      <td>Castro</td>\n",
       "      <td>1613026607</td>\n",
       "      <td>-24.7911</td>\n",
       "      <td>59.74</td>\n",
       "      <td>97</td>\n",
       "      <td>7.00</td>\n",
       "      <td>66</td>\n",
       "    </tr>\n",
       "    <tr>\n",
       "      <th>14</th>\n",
       "      <td>San Cristobal</td>\n",
       "      <td>1613026372</td>\n",
       "      <td>7.7669</td>\n",
       "      <td>64.62</td>\n",
       "      <td>87</td>\n",
       "      <td>2.48</td>\n",
       "      <td>100</td>\n",
       "    </tr>\n",
       "    <tr>\n",
       "      <th>15</th>\n",
       "      <td>Port Alfred</td>\n",
       "      <td>1613026611</td>\n",
       "      <td>-33.5906</td>\n",
       "      <td>78.01</td>\n",
       "      <td>87</td>\n",
       "      <td>1.01</td>\n",
       "      <td>37</td>\n",
       "    </tr>\n",
       "    <tr>\n",
       "      <th>16</th>\n",
       "      <td>Avarua</td>\n",
       "      <td>1613026612</td>\n",
       "      <td>-21.2078</td>\n",
       "      <td>78.80</td>\n",
       "      <td>89</td>\n",
       "      <td>2.30</td>\n",
       "      <td>100</td>\n",
       "    </tr>\n",
       "    <tr>\n",
       "      <th>17</th>\n",
       "      <td>East London</td>\n",
       "      <td>1613026613</td>\n",
       "      <td>-33.0153</td>\n",
       "      <td>77.00</td>\n",
       "      <td>83</td>\n",
       "      <td>9.22</td>\n",
       "      <td>75</td>\n",
       "    </tr>\n",
       "    <tr>\n",
       "      <th>18</th>\n",
       "      <td>Hermanus</td>\n",
       "      <td>1613026614</td>\n",
       "      <td>-34.4187</td>\n",
       "      <td>75.00</td>\n",
       "      <td>71</td>\n",
       "      <td>4.00</td>\n",
       "      <td>0</td>\n",
       "    </tr>\n",
       "    <tr>\n",
       "      <th>19</th>\n",
       "      <td>Kahului</td>\n",
       "      <td>1613026403</td>\n",
       "      <td>20.8947</td>\n",
       "      <td>71.60</td>\n",
       "      <td>60</td>\n",
       "      <td>9.22</td>\n",
       "      <td>75</td>\n",
       "    </tr>\n",
       "    <tr>\n",
       "      <th>20</th>\n",
       "      <td>Cape Town</td>\n",
       "      <td>1613026388</td>\n",
       "      <td>-33.9258</td>\n",
       "      <td>75.00</td>\n",
       "      <td>78</td>\n",
       "      <td>11.50</td>\n",
       "      <td>0</td>\n",
       "    </tr>\n",
       "    <tr>\n",
       "      <th>21</th>\n",
       "      <td>Khatanga</td>\n",
       "      <td>1613026606</td>\n",
       "      <td>71.9667</td>\n",
       "      <td>-22.49</td>\n",
       "      <td>83</td>\n",
       "      <td>3.31</td>\n",
       "      <td>8</td>\n",
       "    </tr>\n",
       "    <tr>\n",
       "      <th>22</th>\n",
       "      <td>Norman Wells</td>\n",
       "      <td>1613026620</td>\n",
       "      <td>65.2820</td>\n",
       "      <td>-14.80</td>\n",
       "      <td>76</td>\n",
       "      <td>9.22</td>\n",
       "      <td>20</td>\n",
       "    </tr>\n",
       "    <tr>\n",
       "      <th>23</th>\n",
       "      <td>Kaohsiung City</td>\n",
       "      <td>1613026621</td>\n",
       "      <td>22.6163</td>\n",
       "      <td>75.20</td>\n",
       "      <td>64</td>\n",
       "      <td>14.97</td>\n",
       "      <td>20</td>\n",
       "    </tr>\n",
       "    <tr>\n",
       "      <th>24</th>\n",
       "      <td>Tasiilaq</td>\n",
       "      <td>1613026405</td>\n",
       "      <td>65.6145</td>\n",
       "      <td>10.40</td>\n",
       "      <td>56</td>\n",
       "      <td>10.36</td>\n",
       "      <td>35</td>\n",
       "    </tr>\n",
       "    <tr>\n",
       "      <th>25</th>\n",
       "      <td>Punta Arenas</td>\n",
       "      <td>1613026625</td>\n",
       "      <td>-53.1500</td>\n",
       "      <td>53.60</td>\n",
       "      <td>87</td>\n",
       "      <td>11.50</td>\n",
       "      <td>90</td>\n",
       "    </tr>\n",
       "    <tr>\n",
       "      <th>26</th>\n",
       "      <td>Saskylakh</td>\n",
       "      <td>1613026626</td>\n",
       "      <td>71.9167</td>\n",
       "      <td>-20.94</td>\n",
       "      <td>85</td>\n",
       "      <td>4.56</td>\n",
       "      <td>0</td>\n",
       "    </tr>\n",
       "    <tr>\n",
       "      <th>27</th>\n",
       "      <td>Flinders</td>\n",
       "      <td>1613026627</td>\n",
       "      <td>-34.5833</td>\n",
       "      <td>79.00</td>\n",
       "      <td>64</td>\n",
       "      <td>1.99</td>\n",
       "      <td>0</td>\n",
       "    </tr>\n",
       "    <tr>\n",
       "      <th>28</th>\n",
       "      <td>Butaritari</td>\n",
       "      <td>1613026628</td>\n",
       "      <td>3.0707</td>\n",
       "      <td>81.66</td>\n",
       "      <td>79</td>\n",
       "      <td>13.42</td>\n",
       "      <td>100</td>\n",
       "    </tr>\n",
       "    <tr>\n",
       "      <th>29</th>\n",
       "      <td>Bay Roberts</td>\n",
       "      <td>1613026629</td>\n",
       "      <td>47.5999</td>\n",
       "      <td>19.00</td>\n",
       "      <td>79</td>\n",
       "      <td>36.82</td>\n",
       "      <td>75</td>\n",
       "    </tr>\n",
       "    <tr>\n",
       "      <th>30</th>\n",
       "      <td>Lima</td>\n",
       "      <td>1613026405</td>\n",
       "      <td>-12.0432</td>\n",
       "      <td>73.99</td>\n",
       "      <td>73</td>\n",
       "      <td>5.75</td>\n",
       "      <td>0</td>\n",
       "    </tr>\n",
       "    <tr>\n",
       "      <th>31</th>\n",
       "      <td>Chokurdakh</td>\n",
       "      <td>1613026632</td>\n",
       "      <td>70.6333</td>\n",
       "      <td>-14.39</td>\n",
       "      <td>89</td>\n",
       "      <td>8.16</td>\n",
       "      <td>0</td>\n",
       "    </tr>\n",
       "    <tr>\n",
       "      <th>32</th>\n",
       "      <td>Kumul</td>\n",
       "      <td>1613026633</td>\n",
       "      <td>42.8000</td>\n",
       "      <td>41.07</td>\n",
       "      <td>54</td>\n",
       "      <td>6.38</td>\n",
       "      <td>100</td>\n",
       "    </tr>\n",
       "    <tr>\n",
       "      <th>33</th>\n",
       "      <td>Saint-Philippe</td>\n",
       "      <td>1613026635</td>\n",
       "      <td>-21.3585</td>\n",
       "      <td>89.60</td>\n",
       "      <td>55</td>\n",
       "      <td>23.02</td>\n",
       "      <td>0</td>\n",
       "    </tr>\n",
       "    <tr>\n",
       "      <th>34</th>\n",
       "      <td>Kieta</td>\n",
       "      <td>1613026621</td>\n",
       "      <td>-6.2167</td>\n",
       "      <td>80.04</td>\n",
       "      <td>82</td>\n",
       "      <td>7.38</td>\n",
       "      <td>100</td>\n",
       "    </tr>\n",
       "    <tr>\n",
       "      <th>35</th>\n",
       "      <td>Nanortalik</td>\n",
       "      <td>1613026638</td>\n",
       "      <td>60.1432</td>\n",
       "      <td>25.45</td>\n",
       "      <td>89</td>\n",
       "      <td>13.71</td>\n",
       "      <td>100</td>\n",
       "    </tr>\n",
       "    <tr>\n",
       "      <th>36</th>\n",
       "      <td>Dikson</td>\n",
       "      <td>1613026639</td>\n",
       "      <td>73.5069</td>\n",
       "      <td>-21.03</td>\n",
       "      <td>88</td>\n",
       "      <td>1.14</td>\n",
       "      <td>77</td>\n",
       "    </tr>\n",
       "    <tr>\n",
       "      <th>37</th>\n",
       "      <td>Hirara</td>\n",
       "      <td>1613026423</td>\n",
       "      <td>24.8000</td>\n",
       "      <td>71.60</td>\n",
       "      <td>94</td>\n",
       "      <td>19.57</td>\n",
       "      <td>75</td>\n",
       "    </tr>\n",
       "    <tr>\n",
       "      <th>38</th>\n",
       "      <td>Atuona</td>\n",
       "      <td>1613026642</td>\n",
       "      <td>-9.8000</td>\n",
       "      <td>78.24</td>\n",
       "      <td>80</td>\n",
       "      <td>17.22</td>\n",
       "      <td>9</td>\n",
       "    </tr>\n",
       "    <tr>\n",
       "      <th>39</th>\n",
       "      <td>Lebu</td>\n",
       "      <td>1613026643</td>\n",
       "      <td>-37.6167</td>\n",
       "      <td>60.82</td>\n",
       "      <td>90</td>\n",
       "      <td>10.09</td>\n",
       "      <td>100</td>\n",
       "    </tr>\n",
       "    <tr>\n",
       "      <th>40</th>\n",
       "      <td>Boende</td>\n",
       "      <td>1613026645</td>\n",
       "      <td>-0.2167</td>\n",
       "      <td>81.97</td>\n",
       "      <td>54</td>\n",
       "      <td>0.49</td>\n",
       "      <td>100</td>\n",
       "    </tr>\n",
       "    <tr>\n",
       "      <th>41</th>\n",
       "      <td>Oktyabr'skoye</td>\n",
       "      <td>1613026646</td>\n",
       "      <td>43.0645</td>\n",
       "      <td>51.80</td>\n",
       "      <td>58</td>\n",
       "      <td>4.47</td>\n",
       "      <td>40</td>\n",
       "    </tr>\n",
       "    <tr>\n",
       "      <th>42</th>\n",
       "      <td>New Norfolk</td>\n",
       "      <td>1613026395</td>\n",
       "      <td>-42.7826</td>\n",
       "      <td>75.00</td>\n",
       "      <td>41</td>\n",
       "      <td>3.74</td>\n",
       "      <td>100</td>\n",
       "    </tr>\n",
       "  </tbody>\n",
       "</table>\n",
       "</div>"
      ],
      "text/plain": [
       "                     city        date      lat   temp  humd   wind  cloud\n",
       "0                 Qaanaaq  1613026590  77.4840   5.88    76  13.76      6\n",
       "1                 Mataura  1613026591 -46.1927  51.82    68  10.31     74\n",
       "2               Kavaratti  1613026592  10.5669  82.40    53   6.78     35\n",
       "3                  Hobart  1613026593 -42.8794  75.00    40  12.66      0\n",
       "4               Hithadhoo  1613026595  -0.6000  82.02    80  11.52     48\n",
       "5                Naberera  1613026596  -4.2000  64.22    92   2.15     99\n",
       "6                 Ushuaia  1613026376 -54.8000  60.80    67  14.97      0\n",
       "7            Longyearbyen  1613026599  78.2186   5.00    61  23.02     40\n",
       "8                  Albany  1613026600  42.6001  21.99    55   1.90    100\n",
       "9            Puerto Ayora  1613026602  -0.7393  73.99    99   1.01     56\n",
       "10  Los Llanos de Aridane  1613026406  28.6585  60.80    72   8.05      0\n",
       "11    Province of Trapani  1613026604  37.8333  57.99    71  18.41     40\n",
       "12                  Lagoa  1613026605  39.0500  58.33    68  31.38      4\n",
       "13                 Castro  1613026607 -24.7911  59.74    97   7.00     66\n",
       "14          San Cristobal  1613026372   7.7669  64.62    87   2.48    100\n",
       "15            Port Alfred  1613026611 -33.5906  78.01    87   1.01     37\n",
       "16                 Avarua  1613026612 -21.2078  78.80    89   2.30    100\n",
       "17            East London  1613026613 -33.0153  77.00    83   9.22     75\n",
       "18               Hermanus  1613026614 -34.4187  75.00    71   4.00      0\n",
       "19                Kahului  1613026403  20.8947  71.60    60   9.22     75\n",
       "20              Cape Town  1613026388 -33.9258  75.00    78  11.50      0\n",
       "21               Khatanga  1613026606  71.9667 -22.49    83   3.31      8\n",
       "22           Norman Wells  1613026620  65.2820 -14.80    76   9.22     20\n",
       "23         Kaohsiung City  1613026621  22.6163  75.20    64  14.97     20\n",
       "24               Tasiilaq  1613026405  65.6145  10.40    56  10.36     35\n",
       "25           Punta Arenas  1613026625 -53.1500  53.60    87  11.50     90\n",
       "26              Saskylakh  1613026626  71.9167 -20.94    85   4.56      0\n",
       "27               Flinders  1613026627 -34.5833  79.00    64   1.99      0\n",
       "28             Butaritari  1613026628   3.0707  81.66    79  13.42    100\n",
       "29            Bay Roberts  1613026629  47.5999  19.00    79  36.82     75\n",
       "30                   Lima  1613026405 -12.0432  73.99    73   5.75      0\n",
       "31             Chokurdakh  1613026632  70.6333 -14.39    89   8.16      0\n",
       "32                  Kumul  1613026633  42.8000  41.07    54   6.38    100\n",
       "33         Saint-Philippe  1613026635 -21.3585  89.60    55  23.02      0\n",
       "34                  Kieta  1613026621  -6.2167  80.04    82   7.38    100\n",
       "35             Nanortalik  1613026638  60.1432  25.45    89  13.71    100\n",
       "36                 Dikson  1613026639  73.5069 -21.03    88   1.14     77\n",
       "37                 Hirara  1613026423  24.8000  71.60    94  19.57     75\n",
       "38                 Atuona  1613026642  -9.8000  78.24    80  17.22      9\n",
       "39                   Lebu  1613026643 -37.6167  60.82    90  10.09    100\n",
       "40                 Boende  1613026645  -0.2167  81.97    54   0.49    100\n",
       "41          Oktyabr'skoye  1613026646  43.0645  51.80    58   4.47     40\n",
       "42            New Norfolk  1613026395 -42.7826  75.00    41   3.74    100"
      ]
     },
     "execution_count": 6,
     "metadata": {},
     "output_type": "execute_result"
    }
   ],
   "source": [
    "# Export the city data into a .csv\n",
    "\n",
    "# create a data frame from cities, lat, and temp\n",
    "weather_df = dict({\n",
    "    \"city\": city,\n",
    "    \"date\": date,\n",
    "    \"lat\": lat,\n",
    "    \"temp\": temp,\n",
    "    \"humd\": humd,\n",
    "    \"wind\": wind,\n",
    "    \"cloud\": cloud\n",
    "})\n",
    "\n",
    "weather_data = pd.DataFrame.from_dict(weather_df)\n",
    "# weather_data = weather_data.transpose()\n",
    "weather_data.to_csv(\"Weather_Data.csv\", index=False)\n",
    "# Convert Unix Time Stamp to regular date\n",
    "tmpdate = datetime.datetime.fromtimestamp(int(weather_data[\"date\"][0])).strftime('%Y-%m-%d')\n",
    "weather_data"
   ]
  },
  {
   "cell_type": "code",
   "execution_count": null,
   "metadata": {
    "scrolled": true
   },
   "outputs": [],
   "source": []
  },
  {
   "cell_type": "markdown",
   "metadata": {},
   "source": [
    "## Inspect the data and remove the cities where the humidity > 100%.\n",
    "----\n",
    "Skip this step if there are no cities that have humidity > 100%. "
   ]
  },
  {
   "cell_type": "code",
   "execution_count": null,
   "metadata": {},
   "outputs": [],
   "source": []
  },
  {
   "cell_type": "code",
   "execution_count": null,
   "metadata": {},
   "outputs": [],
   "source": [
    "#  Get the indices of cities that have humidity over 100%.\n",
    "\n",
    "humidityover = weather_data.loc[weather_data['humd'] > 100]\n",
    "print(humidityover)\n",
    "\n",
    "\n",
    "# index = weather_data.index\n",
    "# humidityover = weather_data[\"humd\"] > 100\n",
    "# humdindices = index[humidityover] get only rows with > 100\n",
    "# indices_list = humdindices.tolist()\n",
    "# print(indices_list)\n"
   ]
  },
  {
   "cell_type": "code",
   "execution_count": null,
   "metadata": {},
   "outputs": [],
   "source": [
    "# Make a new DataFrame equal to the city data to drop all humidity outliers by index.\n",
    "# Passing \"inplace=False\" will make a copy of the city_data DataFrame, which we call \"clean_city_data\".\n"
   ]
  },
  {
   "cell_type": "code",
   "execution_count": null,
   "metadata": {},
   "outputs": [],
   "source": [
    "\n"
   ]
  },
  {
   "cell_type": "markdown",
   "metadata": {},
   "source": [
    "## Plotting the Data\n",
    "* Use proper labeling of the plots using plot titles (including date of analysis) and axes labels.\n",
    "* Save the plotted figures as .pngs."
   ]
  },
  {
   "cell_type": "markdown",
   "metadata": {},
   "source": [
    "## Latitude vs. Temperature Plot"
   ]
  },
  {
   "cell_type": "code",
   "execution_count": 7,
   "metadata": {
    "scrolled": true
   },
   "outputs": [
    {
     "data": {
      "image/png": "[encoded data removed]",
      "text/plain": [
       "<Figure size 432x288 with 1 Axes>"
      ]
     },
     "metadata": {
      "needs_background": "light"
     },
     "output_type": "display_data"
    }
   ],
   "source": [
    "# scatter plot\n",
    "plt.scatter(weather_data[\"lat\"],weather_data[\"temp\"], marker=\"o\", alpha = 0.75)\n",
    "\n",
    "# labels and ttile\n",
    "plt.title(\"City Latitude vs. Temperature (\" + tmpDate + \")\")\n",
    "plt.xlabel(\"Latitude\")\n",
    "plt.ylabel(\"Temperature (F)\")\n",
    "plt.grid(True)\n",
    "\n",
    "# Save the figure\n",
    "plt.savefig(\"latandtemp.png\")\n",
    "\n",
    "# Show plot\n",
    "plt.show()"
   ]
  },
  {
   "cell_type": "markdown",
   "metadata": {},
   "source": [
    "## Latitude vs. Humidity Plot"
   ]
  },
  {
   "cell_type": "code",
   "execution_count": 8,
   "metadata": {},
   "outputs": [
    {
     "data": {
      "image/png": "[encoded data removed]",
      "text/plain": [
       "<Figure size 432x288 with 1 Axes>"
      ]
     },
     "metadata": {
      "needs_background": "light"
     },
     "output_type": "display_data"
    }
   ],
   "source": [
    "# scatter plot\n",
    "plt.scatter(weather_data[\"lat\"],weather_data[\"humd\"], marker=\"o\", alpha = 0.75)\n",
    "\n",
    "# labels and title\n",
    "plt.title(\"City Latitude vs. Humidity (\" + tmpDate + \")\")\n",
    "plt.xlabel(\"Latitude\")\n",
    "plt.ylabel(\"Humidity (%)\")\n",
    "plt.grid(True)\n",
    "\n",
    "# Save the figure\n",
    "plt.savefig(\"latandhumd.png\")\n",
    "\n",
    "# Show plot\n",
    "plt.show()"
   ]
  },
  {
   "cell_type": "markdown",
   "metadata": {},
   "source": [
    "## Latitude vs. Cloudiness Plot"
   ]
  },
  {
   "cell_type": "code",
   "execution_count": 9,
   "metadata": {},
   "outputs": [
    {
     "data": {
      "image/png": "[encoded data removed]",
      "text/plain": [
       "<Figure size 432x288 with 1 Axes>"
      ]
     },
     "metadata": {
      "needs_background": "light"
     },
     "output_type": "display_data"
    }
   ],
   "source": [
    "# scatter plot\n",
    "plt.scatter(weather_data[\"lat\"],weather_data[\"cloud\"], marker=\"o\", alpha = 0.75)\n",
    "\n",
    "# labels and title\n",
    "plt.title(\"City Latitude vs. Cloudiness (\" + tmpDate + \")\")\n",
    "plt.xlabel(\"Latitude\")\n",
    "plt.ylabel(\"Cloudiness (%)\")\n",
    "plt.grid(True)\n",
    "\n",
    "# Save the figure\n",
    "plt.savefig(\"latandcloud.png\")\n",
    "\n",
    "# Show plot\n",
    "plt.show()"
   ]
  },
  {
   "cell_type": "markdown",
   "metadata": {},
   "source": [
    "## Latitude vs. Wind Speed Plot"
   ]
  },
  {
   "cell_type": "code",
   "execution_count": 10,
   "metadata": {},
   "outputs": [
    {
     "data": {
      "image/png": "[encoded data removed]",
      "text/plain": [
       "<Figure size 432x288 with 1 Axes>"
      ]
     },
     "metadata": {
      "needs_background": "light"
     },
     "output_type": "display_data"
    }
   ],
   "source": [
    "# scatter plot\n",
    "plt.scatter(weather_data[\"lat\"],weather_data[\"wind\"], marker=\"o\", alpha = 0.75)\n",
    "\n",
    "# labels and title\n",
    "plt.title(\"City Latitude vs. Wind Speed (\" + tmpDate + \")\")\n",
    "plt.xlabel(\"Latitude\")\n",
    "plt.ylabel(\"Wind Speed (mph)\")\n",
    "plt.grid(True)\n",
    "\n",
    "# Save the figure\n",
    "plt.savefig(\"latandwind.png\")\n",
    "\n",
    "# Show plot\n",
    "plt.show()"
   ]
  },
  {
   "cell_type": "markdown",
   "metadata": {},
   "source": [
    "## Linear Regression"
   ]
  },
  {
   "cell_type": "code",
   "execution_count": 13,
   "metadata": {},
   "outputs": [],
   "source": [
    "# northern hemisphre is north of equater, while southern hemishere is south of equator. sciencing.com(2018)\n",
    "northern = weather_data.loc[weather_data[\"lat\"] >= 0.0]\n",
    "northern.reset_index(inplace=True)\n",
    "\n",
    "southern = weather_data.loc[weather_data[\"lat\"] < 0.0]\n",
    "southern.reset_index(inplace=True)\n",
    "\n"
   ]
  },
  {
   "cell_type": "markdown",
   "metadata": {},
   "source": [
    "####  Northern Hemisphere - Max Temp vs. Latitude Linear Regression"
   ]
  },
  {
   "cell_type": "code",
   "execution_count": 16,
   "metadata": {
    "scrolled": true
   },
   "outputs": [
    {
     "name": "stdout",
     "output_type": "stream",
     "text": [
      "R squared: 0.8582392158531403\n"
     ]
    },
    {
     "data": {
      "image/png": "[encoded data removed]",
      "text/plain": [
       "<Figure size 432x288 with 1 Axes>"
      ]
     },
     "metadata": {
      "needs_background": "light"
     },
     "output_type": "display_data"
    }
   ],
   "source": [
    "# assign x and y values\n",
    "x_values = northern[\"lat\"]\n",
    "y_values = northern[\"temp\"]\n",
    "\n",
    "# Run linear regression\n",
    "(slope, intercept, rvalue, pvalue, stderr) = linregress(x_values, y_values)\n",
    "regress_values = x_values * slope + intercept\n",
    "line_eq = \"y = \" + str(round(slope,2)) + \"x + \" + str(round(intercept,2))\n",
    "\n",
    "# Plot scatter plot\n",
    "plt.scatter(x_values,y_values)\n",
    "\n",
    "# Plot regression line\n",
    "plt.plot(x_values,regress_values,\"r-\")\n",
    "plt.annotate(line_eq,(6,10),fontsize=15,color=\"red\")\n",
    "\n",
    "# Label plot\n",
    "plt.ylabel('Maximum Temperature')\n",
    "plt.xlabel('Latitude')\n",
    "plt.title(\"Northern Hemisphere - Max Temp vs. Latitude (\" + tmpDate + \")\")\n",
    "\n",
    "# Print r square value\n",
    "print(f\"R squared: {rvalue**2}\")\n",
    "\n",
    "# Show plot\n",
    "plt.show()"
   ]
  },
  {
   "cell_type": "markdown",
   "metadata": {},
   "source": [
    "####  Southern Hemisphere - Max Temp vs. Latitude Linear Regression"
   ]
  },
  {
   "cell_type": "code",
   "execution_count": 17,
   "metadata": {},
   "outputs": [
    {
     "name": "stdout",
     "output_type": "stream",
     "text": [
      "R squared: 0.26925688864238795\n"
     ]
    },
    {
     "data": {
      "image/png": "[encoded data removed]",
      "text/plain": [
       "<Figure size 432x288 with 1 Axes>"
      ]
     },
     "metadata": {
      "needs_background": "light"
     },
     "output_type": "display_data"
    }
   ],
   "source": [
    "## assign x and y values\n",
    "x_values = southern[\"lat\"]\n",
    "y_values = southern[\"temp\"]\n",
    "\n",
    "# Run linear regression\n",
    "(slope, intercept, rvalue, pvalue, stderr) = linregress(x_values, y_values)\n",
    "regress_values = x_values * slope + intercept\n",
    "line_eq = \"y = \" + str(round(slope,2)) + \"x + \" + str(round(intercept,2))\n",
    "\n",
    "# Plot scatter plot\n",
    "plt.scatter(x_values,y_values)\n",
    "\n",
    "# Plot regression line\n",
    "plt.plot(x_values,regress_values,\"r-\")\n",
    "plt.annotate(line_eq,(6,10),fontsize=15,color=\"red\")\n",
    "\n",
    "# Label plot\n",
    "plt.ylabel('Maximum Temperature')\n",
    "plt.xlabel('Latitude')\n",
    "plt.title(\"Southern Hemisphere - Max Temp vs. Latitude (\" + tmpDate + \")\")\n",
    "\n",
    "# Print r square value\n",
    "print(f\"R squared: {rvalue**2}\")\n",
    "\n",
    "# Show plot\n",
    "plt.show()"
   ]
  },
  {
   "cell_type": "code",
   "execution_count": null,
   "metadata": {},
   "outputs": [],
   "source": []
  },
  {
   "cell_type": "markdown",
   "metadata": {},
   "source": [
    "####  Northern Hemisphere - Humidity (%) vs. Latitude Linear Regression"
   ]
  },
  {
   "cell_type": "code",
   "execution_count": 18,
   "metadata": {},
   "outputs": [
    {
     "name": "stdout",
     "output_type": "stream",
     "text": [
      "R squared: 0.03593220004224748\n"
     ]
    },
    {
     "data": {
      "image/png": "[encoded data removed]",
      "text/plain": [
       "<Figure size 432x288 with 1 Axes>"
      ]
     },
     "metadata": {
      "needs_background": "light"
     },
     "output_type": "display_data"
    }
   ],
   "source": [
    "# assign x and y values\n",
    "x_values = northern[\"lat\"]\n",
    "y_values = northern[\"humd\"]\n",
    "\n",
    "# Run linear regression\n",
    "(slope, intercept, rvalue, pvalue, stderr) = linregress(x_values, y_values)\n",
    "regress_values = x_values * slope + intercept\n",
    "line_eq = \"y = \" + str(round(slope,2)) + \"x + \" + str(round(intercept,2))\n",
    "\n",
    "# Plot scatter plot\n",
    "plt.scatter(x_values,y_values)\n",
    "\n",
    "# Plot regression line\n",
    "plt.plot(x_values,regress_values,\"r-\")\n",
    "plt.annotate(line_eq,(6,10),fontsize=15,color=\"red\")\n",
    "\n",
    "# Label plot\n",
    "plt.ylabel('Humidity (%)')\n",
    "plt.xlabel('Latitude')\n",
    "plt.title(\"Northern Hemisphere - Humidity (%) vs. Latitude (\" + tmpDate + \")\")\n",
    "\n",
    "# Print r square value\n",
    "print(f\"R squared: {rvalue**2}\")\n",
    "\n",
    "# Show plot\n",
    "plt.show()"
   ]
  },
  {
   "cell_type": "markdown",
   "metadata": {},
   "source": [
    "####  Southern Hemisphere - Humidity (%) vs. Latitude Linear Regression"
   ]
  },
  {
   "cell_type": "code",
   "execution_count": 19,
   "metadata": {
    "scrolled": true
   },
   "outputs": [
    {
     "name": "stdout",
     "output_type": "stream",
     "text": [
      "R squared: 0.08462861409180172\n"
     ]
    },
    {
     "data": {
      "image/png": "[encoded data removed]",
      "text/plain": [
       "<Figure size 432x288 with 1 Axes>"
      ]
     },
     "metadata": {
      "needs_background": "light"
     },
     "output_type": "display_data"
    }
   ],
   "source": [
    "# assign x and y values\n",
    "x_values = southern[\"lat\"]\n",
    "y_values = southern[\"humd\"]\n",
    "\n",
    "# Run linear regression\n",
    "(slope, intercept, rvalue, pvalue, stderr) = linregress(x_values, y_values)\n",
    "regress_values = x_values * slope + intercept\n",
    "line_eq = \"y = \" + str(round(slope,2)) + \"x + \" + str(round(intercept,2))\n",
    "\n",
    "# Plot scatter plot\n",
    "plt.scatter(x_values,y_values)\n",
    "\n",
    "# Plot regression line\n",
    "plt.plot(x_values,regress_values,\"r-\")\n",
    "plt.annotate(line_eq,(6,10),fontsize=15,color=\"red\")\n",
    "\n",
    "# Label plot\n",
    "\n",
    "plt.ylabel('Humidity')\n",
    "plt.xlabel('Latitude')\n",
    "plt.title(\"Southern Hemisphere - Maximum Humidity (%) vs. Latitude (\" + tmpDate + \")\")\n",
    "\n",
    "# Print r square value\n",
    "print(f\"R squared: {rvalue**2}\")\n",
    "\n",
    "# Show plot\n",
    "plt.show()"
   ]
  },
  {
   "cell_type": "markdown",
   "metadata": {},
   "source": [
    "####  Northern Hemisphere - Cloudiness (%) vs. Latitude Linear Regression"
   ]
  },
  {
   "cell_type": "code",
   "execution_count": 20,
   "metadata": {},
   "outputs": [
    {
     "name": "stdout",
     "output_type": "stream",
     "text": [
      "R squared: 0.15734343755405247\n"
     ]
    },
    {
     "data": {
      "image/png": "[encoded data removed]",
      "text/plain": [
       "<Figure size 432x288 with 1 Axes>"
      ]
     },
     "metadata": {
      "needs_background": "light"
     },
     "output_type": "display_data"
    }
   ],
   "source": [
    "# assign x and y values\n",
    "x_values = northern[\"lat\"]\n",
    "y_values = northern[\"cloud\"]\n",
    "\n",
    "# Run linear regression\n",
    "(slope, intercept, rvalue, pvalue, stderr) = linregress(x_values, y_values)\n",
    "regress_values = x_values * slope + intercept\n",
    "line_eq = \"y = \" + str(round(slope,2)) + \"x + \" + str(round(intercept,2))\n",
    "\n",
    "# Plot scatter plot\n",
    "plt.scatter(x_values,y_values)\n",
    "\n",
    "# Plot regression line\n",
    "plt.plot(x_values,regress_values,\"r-\")\n",
    "plt.annotate(line_eq,(6,10),fontsize=15,color=\"red\")\n",
    "\n",
    "# Label plot\n",
    "plt.ylabel('Cloudiness')\n",
    "plt.xlabel('Latitude')\n",
    "plt.title(\"Northern Hemisphere - Cloudiness vs. Latitude (\" + tmpDate + \")\")\n",
    "\n",
    "# Print r square value\n",
    "print(f\"R squared: {rvalue**2}\")\n",
    "\n",
    "# Show plot\n",
    "plt.show()"
   ]
  },
  {
   "cell_type": "markdown",
   "metadata": {},
   "source": [
    "####  Southern Hemisphere - Cloudiness (%) vs. Latitude Linear Regression"
   ]
  },
  {
   "cell_type": "code",
   "execution_count": 21,
   "metadata": {},
   "outputs": [
    {
     "name": "stdout",
     "output_type": "stream",
     "text": [
      "R squared: 0.028159843472493656\n"
     ]
    },
    {
     "data": {
      "image/png": "[encoded data removed]",
      "text/plain": [
       "<Figure size 432x288 with 1 Axes>"
      ]
     },
     "metadata": {
      "needs_background": "light"
     },
     "output_type": "display_data"
    }
   ],
   "source": [
    "# assign x and y values\n",
    "x_values = southern[\"lat\"]\n",
    "y_values = southern[\"cloud\"]\n",
    "\n",
    "# Run linear regression\n",
    "(slope, intercept, rvalue, pvalue, stderr) = linregress(x_values, y_values)\n",
    "regress_values = x_values * slope + intercept\n",
    "line_eq = \"y = \" + str(round(slope,2)) + \"x + \" + str(round(intercept,2))\n",
    "\n",
    "# Plot scatter plot\n",
    "plt.scatter(x_values,y_values)\n",
    "\n",
    "# Plot regression line\n",
    "plt.plot(x_values,regress_values,\"r-\")\n",
    "plt.annotate(line_eq,(6,10),fontsize=15,color=\"red\")\n",
    "\n",
    "# Label plot\n",
    "plt.ylabel('Cloudiness')\n",
    "plt.xlabel('Latitude')\n",
    "plt.title(\"Southern Hemisphere - Cloudiness vs. Latitude (\" + tmpDate + \")\")\n",
    "\n",
    "# Print r square value\n",
    "print(f\"R squared: {rvalue**2}\")\n",
    "\n",
    "# Show plot\n",
    "plt.show()"
   ]
  },
  {
   "cell_type": "markdown",
   "metadata": {},
   "source": [
    "####  Northern Hemisphere - Wind Speed (mph) vs. Latitude Linear Regression"
   ]
  },
  {
   "cell_type": "code",
   "execution_count": 22,
   "metadata": {},
   "outputs": [
    {
     "name": "stdout",
     "output_type": "stream",
     "text": [
      "R squared: 0.0008703255205941984\n"
     ]
    },
    {
     "data": {
      "image/png": "[encoded data removed]",
      "text/plain": [
       "<Figure size 432x288 with 1 Axes>"
      ]
     },
     "metadata": {
      "needs_background": "light"
     },
     "output_type": "display_data"
    }
   ],
   "source": [
    "# assign x and y values\n",
    "x_values = northern[\"lat\"]\n",
    "y_values = northern[\"wind\"]\n",
    "\n",
    "# Run linear regression\n",
    "(slope, intercept, rvalue, pvalue, stderr) = linregress(x_values, y_values)\n",
    "regress_values = x_values * slope + intercept\n",
    "line_eq = \"y = \" + str(round(slope,2)) + \"x + \" + str(round(intercept,2))\n",
    "\n",
    "# Plot scatter plot\n",
    "plt.scatter(x_values,y_values)\n",
    "\n",
    "# Plot regression line\n",
    "plt.plot(x_values,regress_values,\"r-\")\n",
    "plt.annotate(line_eq,(6,10),fontsize=15,color=\"red\")\n",
    "\n",
    "# Label plot\n",
    "plt.ylabel('Wind Speed (mph)')\n",
    "plt.xlabel('Latitude')\n",
    "plt.title(\"Northern Hemisphere - Wind Speed (mph) vs. Latitude (\" + tmpDate + \")\")\n",
    "\n",
    "# Print r square value\n",
    "print(f\"R squared: {rvalue**2}\")\n",
    "\n",
    "# Show plot\n",
    "plt.show()"
   ]
  },
  {
   "cell_type": "markdown",
   "metadata": {},
   "source": [
    "####  Southern Hemisphere - Wind Speed (mph) vs. Latitude Linear Regression"
   ]
  },
  {
   "cell_type": "code",
   "execution_count": 23,
   "metadata": {},
   "outputs": [
    {
     "name": "stdout",
     "output_type": "stream",
     "text": [
      "R squared: 0.0620369890834213\n"
     ]
    },
    {
     "data": {
      "image/png": "[encoded data removed]",
      "text/plain": [
       "<Figure size 432x288 with 1 Axes>"
      ]
     },
     "metadata": {
      "needs_background": "light"
     },
     "output_type": "display_data"
    }
   ],
   "source": [
    "# assign x and y values\n",
    "x_values = southern[\"lat\"]\n",
    "y_values = southern[\"wind\"]\n",
    "\n",
    "# Run linear regression\n",
    "(slope, intercept, rvalue, pvalue, stderr) = linregress(x_values, y_values)\n",
    "regress_values = x_values * slope + intercept\n",
    "line_eq = \"y = \" + str(round(slope,2)) + \"x + \" + str(round(intercept,2))\n",
    "\n",
    "# Plot scatter plot\n",
    "plt.scatter(x_values,y_values)\n",
    "\n",
    "# Plot regression line\n",
    "plt.plot(x_values,regress_values,\"r-\")\n",
    "plt.annotate(line_eq,(6,10),fontsize=15,color=\"red\")\n",
    "\n",
    "# Label plot\n",
    "plt.ylabel('Wind Speed (mph)')\n",
    "plt.xlabel('Latitude')\n",
    "plt.title(\"Southern Hemisphere - Wind Speed (mph) vs. Latitude (\" + tmpDate + \")\")\n",
    "\n",
    "# Print r square value\n",
    "print(f\"R squared: {rvalue**2}\")\n",
    "\n",
    "# Show plot\n",
    "plt.show()"
   ]
  },
  {
   "cell_type": "code",
   "execution_count": null,
   "metadata": {},
   "outputs": [],
   "source": []
  }
 ],
 "metadata": {
  "anaconda-cloud": {},
  "kernel_info": {
   "name": "python3"
  },
  "kernelspec": {
   "display_name": "Python 3",
   "language": "python",
   "name": "python3"
  },
  "language_info": {
   "codemirror_mode": {
    "name": "ipython",
    "version": 3
   },
   "file_extension": ".py",
   "mimetype": "text/x-python",
   "name": "python",
   "nbconvert_exporter": "python",
   "pygments_lexer": "ipython3",
   "version": "3.6.10"
  },
  "latex_envs": {
   "LaTeX_envs_menu_present": true,
   "autoclose": false,
   "autocomplete": true,
   "bibliofile": "biblio.bib",
   "cite_by": "apalike",
   "current_citInitial": 1,
   "eqLabelWithNumbers": true,
   "eqNumInitial": 1,
   "hotkeys": {
    "equation": "Ctrl-E",
    "itemize": "Ctrl-I"
   },
   "labels_anchors": false,
   "latex_user_defs": false,
   "report_style_numbering": false,
   "user_envs_cfg": false
  },
  "nteract": {
   "version": "0.12.3"
  }
 },
 "nbformat": 4,
 "nbformat_minor": 2
}
